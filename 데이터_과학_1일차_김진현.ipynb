{
  "nbformat": 4,
  "nbformat_minor": 0,
  "metadata": {
    "colab": {
      "provenance": [],
      "authorship_tag": "ABX9TyM8Fe/IaHtcxhswNWFj29Zn",
      "include_colab_link": true
    },
    "kernelspec": {
      "name": "python3",
      "display_name": "Python 3"
    },
    "language_info": {
      "name": "python"
    }
  },
  "cells": [
    {
      "cell_type": "markdown",
      "metadata": {
        "id": "view-in-github",
        "colab_type": "text"
      },
      "source": [
        "<a href=\"https://colab.research.google.com/github/kjhjh6051/portfolio/blob/main/%EB%8D%B0%EC%9D%B4%ED%84%B0_%EA%B3%BC%ED%95%99_1%EC%9D%BC%EC%B0%A8_%EA%B9%80%EC%A7%84%ED%98%84.ipynb\" target=\"_parent\"><img src=\"https://colab.research.google.com/assets/colab-badge.svg\" alt=\"Open In Colab\"/></a>"
      ]
    },
    {
      "cell_type": "code",
      "execution_count": 1,
      "metadata": {
        "colab": {
          "base_uri": "https://localhost:8080/",
          "height": 110
        },
        "id": "wQWn8lzk5wOm",
        "outputId": "9b74167a-f492-43a0-c3a3-434deddf66f0"
      },
      "outputs": [
        {
          "output_type": "error",
          "ename": "SyntaxError",
          "evalue": "unterminated string literal (detected at line 14) (<ipython-input-1-a84a61822e6c>, line 14)",
          "traceback": [
            "\u001b[0;36m  File \u001b[0;32m\"<ipython-input-1-a84a61822e6c>\"\u001b[0;36m, line \u001b[0;32m14\u001b[0m\n\u001b[0;31m    print(f\"사용 중인 Pandas\u001b[0m\n\u001b[0m          ^\u001b[0m\n\u001b[0;31mSyntaxError\u001b[0m\u001b[0;31m:\u001b[0m unterminated string literal (detected at line 14)\n"
          ]
        }
      ],
      "source": [
        "# ==================================================\n",
        "# 1일차 - 1교시: 데이터 과학 세상으로 출발! & Google Colab과 Pandas 첫 만남\n",
        "# ==================================================\n",
        "# 이 셀은 주로 이론 설명과 Colab 환경 설정 안내를 위한 텍스트 셀로 구성됩니다.\n",
        "# 아래는 Pandas를 사용하기 위한 필수 라이브러리 임포트입니다.\n",
        "\n",
        "# 1. Pandas 라이브러리 불러오기\n",
        "# 데이터 분석의 가장 기본적인 도구인 Pandas를 'pd'라는 별명으로 불러옵니다.\n",
        "import pandas as pd\n",
        "\n",
        "# Pandas가 성공적으로 불러와졌는지 간단히 확인합니다.\n",
        "# (실제로는 버전 정보 등을 출력할 수 있지만, 여기서는 간단한 메시지만 출력합니다.)\n",
        "print(\"Pandas 라이브러리가 'pd'라는 이름으로 성공적으로 불러와졌습니다!\")\n",
        "print(f\"사용 중인 Pandas\n"
      ]
    },
    {
      "cell_type": "code",
      "source": [
        "# ==================================================\n",
        "# 1일차 - 1교시: 데이터 과학 세상으로 출발! & Google Colab과 Pandas 첫 만남\n",
        "# ==================================================\n",
        "# 이 셀은 주로 이론 설명과 Colab 환경 설정 안내를 위한 텍스트 셀로 구성됩니다.\n",
        "# 아래는 Pandas를 사용하기 위한 필수 라이브러리 임포트입니다.\n",
        "\n",
        "# 1. Pandas 라이브러리 불러오기\n",
        "# 데이터 분석의 가장 기본적인 도구인 Pandas를 'pd'라는 별명으로 불러옵니다.\n",
        "import pandas as pd\n",
        "import numpy as np\n",
        "\n",
        "#데이터 csv파일 가져오기\n",
        "url_autos=\"https://archive.ics.uci.edu/ml/machine-learning-databases/autos/imports-85.data\"\n",
        "#이름 정의\n",
        "headers_auto=[\"symboling\", \"normalized-losses\", \"make\", \"fuel-type\", \"aspiration\",\n",
        "                \"num-of-doors\", \"body-style\", \"drive-wheels\", \"engine-location\",\n",
        "                \"wheel-base\", \"length\", \"width\", \"height\", \"curb-weight\", \"engine-type\",\n",
        "                \"num-of-cylinders\", \"engine-size\", \"fuel-system\", \"bore\", \"stroke\",\n",
        "                \"compression-ratio\", \"horsepower\", \"peak-rpm\", \"city-mpg\", \"highway-mpg\", \"price\"]\n",
        "#복사본 제작\n",
        "df_cars_original = pd.read_csv(url_autos, header=None, names=headers_auto, na_values=\"?\")\n",
        "\n",
        "#불러온 데이터 엿보기\n",
        "\n",
        "\n",
        "\n",
        "\n",
        "\n",
        "\n",
        "\n",
        "# Pandas가 성공적으로 불러와졌는지 간단히 확인합니다.\n",
        "# (실제로는 버전 정보 등을 출력할 수 있지만, 여기서는 간단한 메시지만 출력합니다.)\n",
        "print(\"Pandas 라이브러리가 'pd'라는 이름으로 성공적으로 불러와졌습니다!\")\n",
        "print(f\"사용 중인 Pandas 버전: {pd.__version__}\")\n",
        "\n",
        "# [텍스트 셀 안내]\n",
        "# 이 아래에는 다음과 같은 내용을 마크다운 텍스트 셀로 추가해주세요:\n",
        "# - 데이터 과학이란 무엇일까요? (핵심 개념)\n",
        "# - 우리 주변에서 볼 수 있는 데이터 과학의 예시들\n",
        "# - 왜 데이터 분석에 파이썬을 많이 사용할까요?\n",
        "# - 오늘 우리가 사용할 주요 도구 소개: Pandas, Matplotlib, Google Colab\n",
        "# - Google Colab 사용법 안내:\n",
        "#   - 새 노트 만들기 및 파일 이름 변경 방법\n",
        "#   - 코드 셀 추가 및 실행 방법 (Shift + Enter)\n",
        "#   - 텍스트 셀 추가 및 마크다운 사용법 간략 소개\n"
      ],
      "metadata": {
        "colab": {
          "base_uri": "https://localhost:8080/"
        },
        "id": "cu6wQ4Tl_9ox",
        "outputId": "b9ea0db1-a451-40c8-b915-6cb0a287aa16"
      },
      "execution_count": 7,
      "outputs": [
        {
          "output_type": "stream",
          "name": "stdout",
          "text": [
            "Pandas 라이브러리가 'pd'라는 이름으로 성공적으로 불러와졌습니다!\n",
            "사용 중인 Pandas 버전: 2.2.2\n"
          ]
        }
      ]
    },
    {
      "cell_type": "code",
      "source": [
        "# ==================================================\n",
        "# 1일차 - 2교시: 데이터를 요리하기 위한 재료 손질 (1) & 자동차 데이터 불러오고 살펴보기\n",
        "# ==================================================\n",
        "print(\"\\n--- 1일차 2교시 시작 ---\")\n",
        "\n",
        "# 1. Pandas 라이브러리 (이미 불러왔지만, 명시적으로)\n",
        "import pandas as pd\n",
        "import numpy as np # '?'를 NaN으로 바꾸기 위해 필요\n",
        "\n",
        "# 2. 자동차 데이터셋 불러오기\n",
        "url_autos = \"https://archive.ics.uci.edu/ml/machine-learning-databases/autos/imports-85.data\"\n",
        "\n",
        "# 컬럼 이름 정의 (총 26개)\n",
        "headers_auto = [\"symboling\", \"normalized-losses\", \"make\", \"fuel-type\", \"aspiration\",\n",
        "                \"num-of-doors\", \"body-style\", \"drive-wheels\", \"engine-location\",\n",
        "                \"wheel-base\", \"length\", \"width\", \"height\", \"curb-weight\", \"engine-type\",\n",
        "                \"num-of-cylinders\", \"engine-size\", \"fuel-system\", \"bore\", \"stroke\",\n",
        "                \"compression-ratio\", \"horsepower\", \"peak-rpm\", \"city-mpg\", \"highway-mpg\", \"price\"]\n",
        "\n",
        "# CSV 파일 불러오기. '?'를 NaN으로 바로 인식하도록 na_values 옵션 사용\n",
        "df_cars_original = pd.read_csv(url_autos, header=None, names=headers_auto, na_values=\"?\")\n",
        "print(\"자동차 데이터 로드 완료.\")\n",
        "\n",
        "# 원본을 유지하기 위해 복사본으로 작업 (매우 중요!)\n",
        "df_auto = df_cars_original.copy()\n",
        "print(\"작업용 데이터프레임(df_auto) 복사 완료.\")\n",
        "\n",
        "# 3. 불러온 데이터 엿보기\n",
        "print(\"\\n--- df_auto 맨 앞 5줄 ---\")\n",
        "print(df_auto.head())\n",
        "print(\"\\n--- df_auto 맨 뒤 3줄 ---\")\n",
        "print(df_auto.tail(3))\n",
        "print(\"\\n--- df_auto 전체 크기 (행, 열) ---\")\n",
        "print(df_auto.shape)\n",
        "\n",
        "# 4. 초기 데이터 상태 확인 (info)\n",
        "print(\"\\n--- 초기 df_auto 종합 정보 (info) ---\")\n",
        "df_auto.info()\n",
        "# 여기서 'normalized-losses', 'bore', 'stroke', 'horsepower', 'peak-rpm', 'price' 컬럼이\n",
        "# object 타입이고, Non-Null Count가 전체 행 수보다 적은 것을 확인할 수 있습니다 (NaN 때문에).\n",
        "\n",
        "print(\"\\n--- 1일차 2교시 실습 종료 ---\")\n"
      ],
      "metadata": {
        "colab": {
          "base_uri": "https://localhost:8080/"
        },
        "id": "WmOW11RzF1HG",
        "outputId": "40c32646-36a3-4835-e505-a92acdcb3669"
      },
      "execution_count": 8,
      "outputs": [
        {
          "output_type": "stream",
          "name": "stdout",
          "text": [
            "\n",
            "--- 1일차 2교시 시작 ---\n",
            "자동차 데이터 로드 완료.\n",
            "작업용 데이터프레임(df_auto) 복사 완료.\n",
            "\n",
            "--- df_auto 맨 앞 5줄 ---\n",
            "   symboling  normalized-losses         make fuel-type aspiration  \\\n",
            "0          3                NaN  alfa-romero       gas        std   \n",
            "1          3                NaN  alfa-romero       gas        std   \n",
            "2          1                NaN  alfa-romero       gas        std   \n",
            "3          2              164.0         audi       gas        std   \n",
            "4          2              164.0         audi       gas        std   \n",
            "\n",
            "  num-of-doors   body-style drive-wheels engine-location  wheel-base  ...  \\\n",
            "0          two  convertible          rwd           front        88.6  ...   \n",
            "1          two  convertible          rwd           front        88.6  ...   \n",
            "2          two    hatchback          rwd           front        94.5  ...   \n",
            "3         four        sedan          fwd           front        99.8  ...   \n",
            "4         four        sedan          4wd           front        99.4  ...   \n",
            "\n",
            "   engine-size  fuel-system  bore  stroke compression-ratio horsepower  \\\n",
            "0          130         mpfi  3.47    2.68               9.0      111.0   \n",
            "1          130         mpfi  3.47    2.68               9.0      111.0   \n",
            "2          152         mpfi  2.68    3.47               9.0      154.0   \n",
            "3          109         mpfi  3.19    3.40              10.0      102.0   \n",
            "4          136         mpfi  3.19    3.40               8.0      115.0   \n",
            "\n",
            "   peak-rpm city-mpg  highway-mpg    price  \n",
            "0    5000.0       21           27  13495.0  \n",
            "1    5000.0       21           27  16500.0  \n",
            "2    5000.0       19           26  16500.0  \n",
            "3    5500.0       24           30  13950.0  \n",
            "4    5500.0       18           22  17450.0  \n",
            "\n",
            "[5 rows x 26 columns]\n",
            "\n",
            "--- df_auto 맨 뒤 3줄 ---\n",
            "     symboling  normalized-losses   make fuel-type aspiration num-of-doors  \\\n",
            "202         -1               95.0  volvo       gas        std         four   \n",
            "203         -1               95.0  volvo    diesel      turbo         four   \n",
            "204         -1               95.0  volvo       gas      turbo         four   \n",
            "\n",
            "    body-style drive-wheels engine-location  wheel-base  ...  engine-size  \\\n",
            "202      sedan          rwd           front       109.1  ...          173   \n",
            "203      sedan          rwd           front       109.1  ...          145   \n",
            "204      sedan          rwd           front       109.1  ...          141   \n",
            "\n",
            "     fuel-system  bore  stroke compression-ratio horsepower  peak-rpm  \\\n",
            "202         mpfi  3.58    2.87               8.8      134.0    5500.0   \n",
            "203          idi  3.01    3.40              23.0      106.0    4800.0   \n",
            "204         mpfi  3.78    3.15               9.5      114.0    5400.0   \n",
            "\n",
            "    city-mpg  highway-mpg    price  \n",
            "202       18           23  21485.0  \n",
            "203       26           27  22470.0  \n",
            "204       19           25  22625.0  \n",
            "\n",
            "[3 rows x 26 columns]\n",
            "\n",
            "--- df_auto 전체 크기 (행, 열) ---\n",
            "(205, 26)\n",
            "\n",
            "--- 초기 df_auto 종합 정보 (info) ---\n",
            "<class 'pandas.core.frame.DataFrame'>\n",
            "RangeIndex: 205 entries, 0 to 204\n",
            "Data columns (total 26 columns):\n",
            " #   Column             Non-Null Count  Dtype  \n",
            "---  ------             --------------  -----  \n",
            " 0   symboling          205 non-null    int64  \n",
            " 1   normalized-losses  164 non-null    float64\n",
            " 2   make               205 non-null    object \n",
            " 3   fuel-type          205 non-null    object \n",
            " 4   aspiration         205 non-null    object \n",
            " 5   num-of-doors       203 non-null    object \n",
            " 6   body-style         205 non-null    object \n",
            " 7   drive-wheels       205 non-null    object \n",
            " 8   engine-location    205 non-null    object \n",
            " 9   wheel-base         205 non-null    float64\n",
            " 10  length             205 non-null    float64\n",
            " 11  width              205 non-null    float64\n",
            " 12  height             205 non-null    float64\n",
            " 13  curb-weight        205 non-null    int64  \n",
            " 14  engine-type        205 non-null    object \n",
            " 15  num-of-cylinders   205 non-null    object \n",
            " 16  engine-size        205 non-null    int64  \n",
            " 17  fuel-system        205 non-null    object \n",
            " 18  bore               201 non-null    float64\n",
            " 19  stroke             201 non-null    float64\n",
            " 20  compression-ratio  205 non-null    float64\n",
            " 21  horsepower         203 non-null    float64\n",
            " 22  peak-rpm           203 non-null    float64\n",
            " 23  city-mpg           205 non-null    int64  \n",
            " 24  highway-mpg        205 non-null    int64  \n",
            " 25  price              201 non-null    float64\n",
            "dtypes: float64(11), int64(5), object(10)\n",
            "memory usage: 41.8+ KB\n",
            "\n",
            "--- 1일차 2교시 실습 종료 ---\n"
          ]
        }
      ]
    },
    {
      "cell_type": "code",
      "source": [],
      "metadata": {
        "id": "77olQKdnDQRv"
      },
      "execution_count": null,
      "outputs": []
    }
  ]
}